{
 "cells": [
  {
   "cell_type": "code",
   "execution_count": 6,
   "metadata": {},
   "outputs": [
    {
     "name": "stdout",
     "output_type": "stream",
     "text": [
      "Looking in indexes: https://pypi.org/simple, https://pypi.ngc.nvidia.com\n",
      "Collecting easydev\n",
      "  Downloading easydev-0.12.1.tar.gz (55 kB)\n",
      "                                              0.0/55.7 kB ? eta -:--:--\n",
      "     ---------------------------------------- 55.7/55.7 kB 2.8 MB/s eta 0:00:00\n",
      "  Preparing metadata (setup.py): started\n",
      "  Preparing metadata (setup.py): finished with status 'done'\n",
      "Requirement already satisfied: colorama in c:\\users\\sfdeg\\appdata\\roaming\\python\\python310\\site-packages (from easydev) (0.4.6)\n",
      "Collecting pexpect (from easydev)\n",
      "  Downloading pexpect-4.8.0-py2.py3-none-any.whl (59 kB)\n",
      "                                              0.0/59.0 kB ? eta -:--:--\n",
      "     ---------------------------------------- 59.0/59.0 kB ? eta 0:00:00\n",
      "Collecting colorlog (from easydev)\n",
      "  Downloading colorlog-6.7.0-py2.py3-none-any.whl (11 kB)\n",
      "Collecting ptyprocess>=0.5 (from pexpect->easydev)\n",
      "  Downloading ptyprocess-0.7.0-py2.py3-none-any.whl (13 kB)\n",
      "Building wheels for collected packages: easydev\n",
      "  Building wheel for easydev (setup.py): started\n",
      "  Building wheel for easydev (setup.py): finished with status 'done'\n",
      "  Created wheel for easydev: filename=easydev-0.12.1-py3-none-any.whl size=64231 sha256=dda6269fb11e24e1a39a085b765a739f661f03fcc16682547b5b04559b25f29e\n",
      "  Stored in directory: C:\\Users\\sfdeg\\AppData\\Local\\Temp\\pip-ephem-wheel-cache-ar05jv3j\\wheels\\c5\\a3\\df\\e8e19f6f1674c2b0574ccc1a156292b599709eaa4feeea0fcf\n",
      "Successfully built easydev\n",
      "Installing collected packages: ptyprocess, pexpect, colorlog, easydev\n",
      "Successfully installed colorlog-6.7.0 easydev-0.12.1 pexpect-4.8.0 ptyprocess-0.7.0\n"
     ]
    }
   ],
   "source": [
    "!pip install easydev"
   ]
  },
  {
   "cell_type": "code",
   "execution_count": 7,
   "metadata": {},
   "outputs": [
    {
     "name": "stdout",
     "output_type": "stream",
     "text": [
      "rgb2hex(*Q_GREEN) = '#ACD97F'\n",
      "rgb2hex(*R_BLUE) = '#7FCCF2'\n",
      "rgb2hex(*S_PINK) = '#F28CF2'\n",
      "rgb2hex(*P_BLUE) = '#3673A5'\n",
      "rgb2hex(*Y_YELLOW) = '#FFD342'\n"
     ]
    }
   ],
   "source": [
    "from colormap import rgb2hex\n",
    "from colormap import hex2rgb\n",
    "\n",
    "Q_GREEN = (172, 217, 127)\n",
    "R_BLUE = (127, 204, 242)\n",
    "S_PINK = (242, 140, 242)\n",
    "P_BLUE = (54, 115, 165)\n",
    "Y_YELLOW = (255, 211, 66)\n",
    "\n",
    "print(f\"{rgb2hex(*Q_GREEN) = }\")\n",
    "print(f\"{rgb2hex(*R_BLUE) = }\")\n",
    "print(f\"{rgb2hex(*S_PINK) = }\")\n",
    "print(f\"{rgb2hex(*P_BLUE) = }\")\n",
    "print(f\"{rgb2hex(*Y_YELLOW) = }\")\n",
    "\n",
    "\n"
   ]
  }
 ],
 "metadata": {
  "kernelspec": {
   "display_name": "Python 3",
   "language": "python",
   "name": "python3"
  },
  "language_info": {
   "codemirror_mode": {
    "name": "ipython",
    "version": 3
   },
   "file_extension": ".py",
   "mimetype": "text/x-python",
   "name": "python",
   "nbconvert_exporter": "python",
   "pygments_lexer": "ipython3",
   "version": "3.10.10"
  },
  "orig_nbformat": 4
 },
 "nbformat": 4,
 "nbformat_minor": 2
}
