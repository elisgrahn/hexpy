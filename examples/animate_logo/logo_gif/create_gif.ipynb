{
 "cells": [
  {
   "cell_type": "code",
   "execution_count": 1,
   "metadata": {},
   "outputs": [
    {
     "name": "stdout",
     "output_type": "stream",
     "text": [
      "['frame_0.png', 'frame_1.png', 'frame_2.png', 'frame_3.png', 'frame_4.png', 'frame_5.png', 'frame_6.png', 'frame_7.png', 'frame_8.png', 'frame_9.png', 'frame_10.png', 'frame_11.png', 'frame_13.png', 'frame_12.png', 'frame_13.png', 'frame_14.png', 'frame_15.png', 'frame_16.png', 'frame_17.png', 'frame_18.png', 'frame_19.png', 'frame_20.png', 'frame_21.png', 'frame_22.png', 'frame_23.png', 'frame_24.png']\n"
     ]
    }
   ],
   "source": [
    "from PIL import Image, ImageSequence\n",
    "import os\n",
    "\n",
    "frames = [f\"frame_{i}.png\" for i in range(25)]\n",
    "frames.insert(12, \"frame_13.png\")\n",
    "\n",
    "transp_frames = []\n",
    "\n",
    "for frame in frames:\n",
    "    img = Image.open(frame)\n",
    "    img = img.convert(\"RGBA\")\n",
    "    pixdata = img.load()\n",
    "\n",
    "    width, height = img.size\n",
    "    for y in range(height):\n",
    "        for x in range(width):\n",
    "            if pixdata[x, y] == (255, 255, 255, 255):\n",
    "                pixdata[x, y] = (255, 255, 255, 0)\n",
    "\n",
    "    transp_frames.append(img)\n",
    "\n",
    "print(frames)\n",
    "\n",
    "img, *imgs = transp_frames\n",
    "img.save('logo.gif', format='GIF', save_all=True, append_images=imgs, disposal=2, optimize=False, duration=150, loop=0)"
   ]
  }
 ],
 "metadata": {
  "kernelspec": {
   "display_name": "Python 3",
   "language": "python",
   "name": "python3"
  },
  "language_info": {
   "codemirror_mode": {
    "name": "ipython",
    "version": 3
   },
   "file_extension": ".py",
   "mimetype": "text/x-python",
   "name": "python",
   "nbconvert_exporter": "python",
   "pygments_lexer": "ipython3",
   "version": "3.10.10"
  },
  "orig_nbformat": 4
 },
 "nbformat": 4,
 "nbformat_minor": 2
}
